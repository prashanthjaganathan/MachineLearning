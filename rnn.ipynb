{
 "cells": [
  {
   "cell_type": "code",
   "execution_count": 3,
   "metadata": {},
   "outputs": [],
   "source": [
    "import os\n",
    "import numpy as np\n",
    "import torch\n",
    "import torch.nn as nn\n",
    "import torch.optim as optim\n",
    "from torch.utils.data import Dataset, DataLoader\n",
    "import random"
   ]
  },
  {
   "cell_type": "code",
   "execution_count": 4,
   "metadata": {},
   "outputs": [],
   "source": [
    "# Helper function to load the raw inertial signals\n",
    "def load_ucihar(data_dir='har_dataset', subset='train'): \n",
    "    \"\"\"\n",
    "    Loads the UCI HAR data from the Inertial Signals folder.\n",
    "    Returns:\n",
    "        X: numpy array of shape (num_samples, seq_len, num_signals)\n",
    "        y: numpy array of labels (0-indexed)\n",
    "    \"\"\"\n",
    "\n",
    "    # The nine signal types available in the dataset\n",
    "    signal_types = [\n",
    "        \"body_acc_x\", \"body_acc_y\", \"body_acc_z\",\n",
    "        \"body_gyro_x\", \"body_gyro_y\", \"body_gyro_z\",\n",
    "        \"total_acc_x\", \"total_acc_y\", \"total_acc_z\"\n",
    "    ]\n",
    "    signals = []\n",
    "\n",
    "    # Each signal file is located in {data_dir}/{subset}/Inertial Signals/ \n",
    "    for signal in signal_types:\n",
    "        filename = os.path.join(data_dir, subset, \"Inertial Signals\", f\"{signal}_{ subset}.txt\")\n",
    "        # Each file has shape (num_samples, 128)\n",
    "        data = np.loadtxt(filename)\n",
    "        # Add a new axis so that we can later stack to shape (num_samples, 128, num_signals)\n",
    "        signals.append(data[..., np.newaxis])\n",
    "        \n",
    "    # Stack along the last dimension to form (num_samples, 128, 9)\n",
    "    X = np.concatenate(signals, axis=2)\n",
    "    # Load labels from y_{subset}.txt; labels in the dataset are 1-indexed, so subtract 1.\n",
    "    y_path = os.path.join(data_dir, subset, f\"y_{subset}.txt\") \n",
    "    y = np.loadtxt(y_path).astype(int) - 1\n",
    "\n",
    "    return X, y"
   ]
  },
  {
   "cell_type": "code",
   "execution_count": 5,
   "metadata": {},
   "outputs": [],
   "source": [
    "# Define a PyTorch Dataset for UCI HAR\n",
    "class UCIHARDataset(Dataset):\n",
    "    def __init__(self, data_dir='har_dataset', subset='train'):\n",
    "        self.X, self.y = load_ucihar(data_dir, subset) \n",
    "        \n",
    "    def __len__(self):\n",
    "        return self.X.shape[0]\n",
    "\n",
    "    def __getitem__(self, idx):\n",
    "        sample = torch.tensor(self.X[idx], dtype=torch.float32) \n",
    "        label = torch.tensor(self.y[idx], dtype=torch.long) \n",
    "        return sample, label"
   ]
  },
  {
   "cell_type": "code",
   "execution_count": 6,
   "metadata": {},
   "outputs": [],
   "source": [
    "SEED = 42\n",
    "random.seed(SEED) \n",
    "np.random.seed(SEED) \n",
    "torch.manual_seed(SEED)\n",
    "\n",
    "if torch.cuda.is_available():\n",
    "    torch.cuda.manual_seed_all(SEED)"
   ]
  },
  {
   "cell_type": "code",
   "execution_count": 7,
   "metadata": {},
   "outputs": [],
   "source": [
    "# define model\n",
    "class RNNClassifier(nn.Module):\n",
    "    def __init__(self, input_size, hidden_size, num_layers, num_classes):\n",
    "        super(RNNClassifier, self).__init__()\n",
    "        self.hidden_size = hidden_size\n",
    "        self.num_layers = num_layers\n",
    "        self.rnn = nn.RNN(input_size, hidden_size, num_layers, batch_first=True)\n",
    "        self.fc = nn.Linear(hidden_size, num_classes)\n",
    "\n",
    "    def forward(self, x):\n",
    "        h0 = torch.zeros(self.num_layers, x.size(0), self.hidden_size).to(x.device)\n",
    "        out, _ = self.rnn(x, h0)\n",
    "\n",
    "        logit = self.fc(out[:, -1, :])\n",
    "        prob = nn.functional.softmax(logit, dim=1) \n",
    "        return prob, logit"
   ]
  },
  {
   "cell_type": "code",
   "execution_count": 8,
   "metadata": {},
   "outputs": [],
   "source": [
    "num_epochs, batch_size, lr = 10, 16, 0.001 \n",
    "# create train, test dataset \n",
    "train_dataset, test_dataset = UCIHARDataset(), UCIHARDataset(data_dir='har_dataset', subset='test')\n",
    "\n",
    "# create train, test loader\n",
    "train_loader = DataLoader(train_dataset, batch_size=batch_size, shuffle=True)\n",
    "test_loader = DataLoader(test_dataset, batch_size=batch_size, shuffle=False)"
   ]
  },
  {
   "cell_type": "code",
   "execution_count": 9,
   "metadata": {},
   "outputs": [],
   "source": [
    "\n",
    "# create model, loss criterion, optimizer\n",
    "def train(model, train_loader):\n",
    "    criterion = nn.CrossEntropyLoss()\n",
    "    optimizer = optim.Adam(model.parameters())\n",
    "    num_epochs = 10\n",
    "\n",
    "    # start training\n",
    "    for epoch in range(num_epochs):\n",
    "        model.train()\n",
    "        for i, (inputs, labels) in enumerate(train_loader):\n",
    "            optimizer.zero_grad()\n",
    "            activity_prob, activity_logit = model(inputs)\n",
    "            loss = criterion(activity_logit, labels)\n",
    "            loss.backward()\n",
    "            optimizer.step()\n",
    "\n",
    "        print(f'Epoch {epoch + 1}/{num_epochs}, Loss: {loss.item():.4f}')\n",
    "\n",
    "# evaluate on test data\n",
    "def eval(model, test_loader):\n",
    "    model.eval()\n",
    "\n",
    "    correct = 0\n",
    "    total = 0\n",
    "\n",
    "    with torch.no_grad():  \n",
    "        for inputs, labels in test_loader:\n",
    "            activity_prob, activity_logit = model(inputs)\n",
    "            _, predicted = torch.max(activity_logit, 1)\n",
    "\n",
    "            total += labels.size(0)\n",
    "            correct += (predicted == labels).sum().item()\n",
    "\n",
    "    # Calculate accuracy\n",
    "    test_acc = 100 * correct / total\n",
    "    print(f'Test Accuracy: {test_acc:.2f}%\\n')\n"
   ]
  },
  {
   "cell_type": "markdown",
   "metadata": {},
   "source": [
    "## RNN"
   ]
  },
  {
   "cell_type": "code",
   "execution_count": 10,
   "metadata": {},
   "outputs": [
    {
     "name": "stdout",
     "output_type": "stream",
     "text": [
      "Epoch 1/10, Loss: 1.3305\n",
      "Epoch 2/10, Loss: 1.0995\n",
      "Epoch 3/10, Loss: 1.2792\n",
      "Epoch 4/10, Loss: 1.1664\n",
      "Epoch 5/10, Loss: 0.9955\n",
      "Epoch 6/10, Loss: 0.8674\n",
      "Epoch 7/10, Loss: 0.8602\n",
      "Epoch 8/10, Loss: 0.6662\n",
      "Epoch 9/10, Loss: 0.7107\n",
      "Epoch 10/10, Loss: 0.3737\n",
      "Test Accuracy: 66.20%\n",
      "\n"
     ]
    }
   ],
   "source": [
    "model = RNNClassifier(9, 16, 1, 6)\n",
    "train(model, train_loader)\n",
    "eval(model, test_loader)"
   ]
  },
  {
   "cell_type": "code",
   "execution_count": 11,
   "metadata": {},
   "outputs": [
    {
     "name": "stdout",
     "output_type": "stream",
     "text": [
      "------ Model config ---------\n",
      "Feature Dims: 64\n",
      "RNN Layers: 1\n",
      "\n",
      "Epoch 1/10, Loss: 1.5719\n",
      "Epoch 2/10, Loss: 1.0291\n",
      "Epoch 3/10, Loss: 1.2365\n",
      "Epoch 4/10, Loss: 0.7015\n",
      "Epoch 5/10, Loss: 1.1045\n",
      "Epoch 6/10, Loss: 0.7875\n",
      "Epoch 7/10, Loss: 0.9233\n",
      "Epoch 8/10, Loss: 0.4915\n",
      "Epoch 9/10, Loss: 1.0271\n",
      "Epoch 10/10, Loss: 0.8041\n",
      "Test Accuracy: 58.40%\n",
      "\n",
      "------ Model config ---------\n",
      "Feature Dims: 16\n",
      "RNN Layers: 2\n",
      "\n",
      "Epoch 1/10, Loss: 0.8847\n",
      "Epoch 2/10, Loss: 1.1040\n",
      "Epoch 3/10, Loss: 0.7165\n",
      "Epoch 4/10, Loss: 0.7701\n",
      "Epoch 5/10, Loss: 0.6416\n",
      "Epoch 6/10, Loss: 0.4307\n",
      "Epoch 7/10, Loss: 0.4618\n",
      "Epoch 8/10, Loss: 0.8093\n",
      "Epoch 9/10, Loss: 0.3892\n",
      "Epoch 10/10, Loss: 0.3397\n",
      "Test Accuracy: 70.21%\n",
      "\n",
      "------ Model config ---------\n",
      "Feature Dims: 16\n",
      "RNN Layers: 3\n",
      "\n",
      "Epoch 1/10, Loss: 0.8714\n",
      "Epoch 2/10, Loss: 0.8941\n",
      "Epoch 3/10, Loss: 0.4600\n",
      "Epoch 4/10, Loss: 0.6518\n",
      "Epoch 5/10, Loss: 0.8868\n",
      "Epoch 6/10, Loss: 1.4315\n",
      "Epoch 7/10, Loss: 1.3051\n",
      "Epoch 8/10, Loss: 0.3785\n",
      "Epoch 9/10, Loss: 0.6869\n",
      "Epoch 10/10, Loss: 0.8038\n",
      "Test Accuracy: 62.23%\n",
      "\n",
      "------ Model config ---------\n",
      "Feature Dims: 16\n",
      "RNN Layers: 4\n",
      "\n",
      "Epoch 1/10, Loss: 0.8370\n",
      "Epoch 2/10, Loss: 0.4667\n",
      "Epoch 3/10, Loss: 0.5148\n",
      "Epoch 4/10, Loss: 0.4097\n",
      "Epoch 5/10, Loss: 0.5712\n",
      "Epoch 6/10, Loss: 0.5946\n",
      "Epoch 7/10, Loss: 1.1346\n",
      "Epoch 8/10, Loss: 0.8718\n",
      "Epoch 9/10, Loss: 1.4025\n",
      "Epoch 10/10, Loss: 0.9324\n",
      "Test Accuracy: 47.00%\n",
      "\n"
     ]
    }
   ],
   "source": [
    "model_configs = (\n",
    "    [64, 1],\n",
    "    [16, 2],\n",
    "    [16, 3],\n",
    "    [16, 4]\n",
    ") # [feature dims, RNN layer config per model]\n",
    "\n",
    "for model_config in model_configs:\n",
    "    feat_dims = model_config[0]\n",
    "    rnn_layers = model_config[1]\n",
    "    print(f'------ Model config ---------\\nFeature Dims: {feat_dims}\\nRNN Layers: {rnn_layers}\\n')\n",
    "    model = RNNClassifier(9, feat_dims, rnn_layers, 6)\n",
    "    train(model, train_loader)\n",
    "    eval(model, test_loader)"
   ]
  },
  {
   "cell_type": "markdown",
   "metadata": {},
   "source": [
    "## LSTM"
   ]
  },
  {
   "cell_type": "code",
   "execution_count": 12,
   "metadata": {},
   "outputs": [],
   "source": [
    "# define model\n",
    "class LSTMClassifier(nn.Module):\n",
    "    def __init__(self, input_size, hidden_size, num_layers, num_classes):\n",
    "        super(LSTMClassifier, self).__init__()\n",
    "        self.hidden_size = hidden_size\n",
    "        self.num_layers = num_layers\n",
    "        self.lstm = nn.LSTM(input_size, hidden_size, num_layers, batch_first=True)\n",
    "        self.fc = nn.Linear(hidden_size, num_classes)\n",
    "\n",
    "    def forward(self, x):\n",
    "        h0 = torch.zeros(self.num_layers, x.size(0), self.hidden_size).to(x.device)\n",
    "        c0 = torch.zeros(self.num_layers, x.size(0), self.hidden_size).to(x.device)\n",
    "        out, (hn, cn) = self.lstm(x, (h0, c0))\n",
    "\n",
    "        logit = self.fc(out[:, -1, :])\n",
    "        prob = nn.functional.softmax(logit, dim=1) \n",
    "        return prob, logit"
   ]
  },
  {
   "cell_type": "code",
   "execution_count": 13,
   "metadata": {},
   "outputs": [
    {
     "name": "stdout",
     "output_type": "stream",
     "text": [
      "Epoch 1/10, Loss: 0.8308\n",
      "Epoch 2/10, Loss: 0.7573\n",
      "Epoch 3/10, Loss: 0.9769\n",
      "Epoch 4/10, Loss: 0.3603\n",
      "Epoch 5/10, Loss: 1.1496\n",
      "Epoch 6/10, Loss: 1.1740\n",
      "Epoch 7/10, Loss: 0.8666\n",
      "Epoch 8/10, Loss: 0.3781\n",
      "Epoch 9/10, Loss: 0.2382\n",
      "Epoch 10/10, Loss: 1.1934\n",
      "Test Accuracy: 65.22%\n",
      "\n"
     ]
    }
   ],
   "source": [
    "lstm_model = LSTMClassifier(9, 16, 1, 6)\n",
    "train(lstm_model, train_loader)\n",
    "eval(lstm_model, test_loader)"
   ]
  }
 ],
 "metadata": {
  "kernelspec": {
   "display_name": "ml",
   "language": "python",
   "name": "python3"
  },
  "language_info": {
   "codemirror_mode": {
    "name": "ipython",
    "version": 3
   },
   "file_extension": ".py",
   "mimetype": "text/x-python",
   "name": "python",
   "nbconvert_exporter": "python",
   "pygments_lexer": "ipython3",
   "version": "3.11.9"
  }
 },
 "nbformat": 4,
 "nbformat_minor": 2
}
