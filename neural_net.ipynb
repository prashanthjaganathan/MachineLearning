{
 "cells": [
  {
   "cell_type": "code",
   "execution_count": 101,
   "metadata": {},
   "outputs": [],
   "source": [
    "import torch\n",
    "import torch.nn as nn\n",
    "import torch.optim as optim\n",
    "from torch.utils.data import DataLoader, TensorDataset\n",
    "import numpy as np\n",
    "from sklearn.metrics import accuracy_score\n",
    "import pandas as pd"
   ]
  },
  {
   "cell_type": "code",
   "execution_count": 102,
   "metadata": {},
   "outputs": [
    {
     "data": {
      "text/html": [
       "<div>\n",
       "<style scoped>\n",
       "    .dataframe tbody tr th:only-of-type {\n",
       "        vertical-align: middle;\n",
       "    }\n",
       "\n",
       "    .dataframe tbody tr th {\n",
       "        vertical-align: top;\n",
       "    }\n",
       "\n",
       "    .dataframe thead th {\n",
       "        text-align: right;\n",
       "    }\n",
       "</style>\n",
       "<table border=\"1\" class=\"dataframe\">\n",
       "  <thead>\n",
       "    <tr style=\"text-align: right;\">\n",
       "      <th></th>\n",
       "      <th>0</th>\n",
       "      <th>1</th>\n",
       "    </tr>\n",
       "  </thead>\n",
       "  <tbody>\n",
       "    <tr>\n",
       "      <th>0</th>\n",
       "      <td>-0.189839</td>\n",
       "      <td>1.050166</td>\n",
       "    </tr>\n",
       "    <tr>\n",
       "      <th>1</th>\n",
       "      <td>-0.132564</td>\n",
       "      <td>0.982741</td>\n",
       "    </tr>\n",
       "    <tr>\n",
       "      <th>2</th>\n",
       "      <td>-0.394263</td>\n",
       "      <td>1.221791</td>\n",
       "    </tr>\n",
       "    <tr>\n",
       "      <th>3</th>\n",
       "      <td>-0.268637</td>\n",
       "      <td>1.249947</td>\n",
       "    </tr>\n",
       "    <tr>\n",
       "      <th>4</th>\n",
       "      <td>1.948270</td>\n",
       "      <td>-0.478318</td>\n",
       "    </tr>\n",
       "  </tbody>\n",
       "</table>\n",
       "</div>"
      ],
      "text/plain": [
       "          0         1\n",
       "0 -0.189839  1.050166\n",
       "1 -0.132564  0.982741\n",
       "2 -0.394263  1.221791\n",
       "3 -0.268637  1.249947\n",
       "4  1.948270 -0.478318"
      ]
     },
     "execution_count": 102,
     "metadata": {},
     "output_type": "execute_result"
    }
   ],
   "source": [
    "X_train = pd.read_csv('svm_dataset/X_train.csv', header=None)\n",
    "X_test = pd.read_csv('svm_dataset/X_test.csv', header=None)\n",
    "y_train = pd.read_csv('svm_dataset/y_train.csv', header=None)\n",
    "y_test = pd.read_csv('svm_dataset/y_test.csv', header=None)\n",
    "\n",
    "X_train.head()"
   ]
  },
  {
   "cell_type": "code",
   "execution_count": 103,
   "metadata": {},
   "outputs": [],
   "source": [
    "X_train_tensor = torch.tensor(X_train.values, dtype=torch.float32)\n",
    "y_train_tensor = torch.tensor(y_train.values, dtype=torch.float32)\n",
    "\n",
    "X_test_tensor = torch.tensor(X_test.values, dtype=torch.float32)\n",
    "y_test_tensor = torch.tensor(y_test.values, dtype=torch.float32)\n",
    "\n",
    "train_dataset = TensorDataset(X_train_tensor, y_train_tensor)\n",
    "test_dataset = TensorDataset(X_test_tensor, y_test_tensor)\n",
    "\n",
    "train_loader = DataLoader(train_dataset, batch_size=32, shuffle=True)\n",
    "test_loader = DataLoader(test_dataset, batch_size=32, shuffle=False)"
   ]
  },
  {
   "cell_type": "code",
   "execution_count": 104,
   "metadata": {},
   "outputs": [],
   "source": [
    "class FNN(nn.Module):\n",
    "    def __init__(self, hidden_layers, hidden_layer_size, input_size=2, output_size=1):\n",
    "        super(FNN, self).__init__()\n",
    "\n",
    "        self.layers = []\n",
    "        prev_layer_size = input_size\n",
    "\n",
    "        for i in range(hidden_layers):\n",
    "            self.layers.append(nn.Linear(prev_layer_size, hidden_layer_size))\n",
    "            self.layers.append(nn.ReLU())\n",
    "            prev_layer_size = hidden_layer_size\n",
    "\n",
    "        # Output layer\n",
    "        self.layers.append(nn.Linear(prev_layer_size, output_size))\n",
    "        self.layers.append(nn.Sigmoid())\n",
    "\n",
    "        self.model = nn.Sequential(*self.layers)\n",
    "\n",
    "    def forward(self, x):\n",
    "        return self.model(x)"
   ]
  },
  {
   "cell_type": "code",
   "execution_count": 105,
   "metadata": {},
   "outputs": [],
   "source": [
    "def train(model: nn.Module, train_loader):\n",
    "    criterion = nn.BCELoss()\n",
    "    optimizer = optim.Adam(model.parameters(), lr=0.001)\n",
    "\n",
    "    epochs = 20\n",
    "\n",
    "    for epoch in range(epochs):\n",
    "        model.train()\n",
    "\n",
    "        for x_train, y_train in train_loader:\n",
    "            optimizer.zero_grad()\n",
    "            output = model(x_train)\n",
    "            loss = criterion(output, y_train)\n",
    "            loss.backward()\n",
    "            optimizer.step()\n",
    "\n",
    "        print(f'Epoch {epoch + 1}/{epochs}, Loss: {loss.item():.4f}')\n",
    "    \n",
    "    return model\n",
    "\n",
    "\n",
    "def eval(model: nn.Module):\n",
    "    model.eval()\n",
    "    threshold = 0.5\n",
    "\n",
    "    with torch.no_grad():\n",
    "        y_train_pred = model(X_train_tensor)\n",
    "        y_train_pred = (y_train_pred >= threshold)\n",
    "        \n",
    "        train_accuracy = accuracy_score(y_train.values, y_train_pred.numpy())\n",
    "        print(f'\\n\\nTrain Accuracy: {train_accuracy}')\n",
    "\n",
    "        y_test_pred = model(X_test_tensor)\n",
    "        y_test_pred = (y_test_pred >= threshold)\n",
    "        test_accuracy = accuracy_score(y_test.values, y_test_pred.numpy())\n",
    "        print(f'Test Accuracy: {test_accuracy}')"
   ]
  },
  {
   "cell_type": "markdown",
   "metadata": {},
   "source": [
    "(a) Train a network with 1 hidden layer, and the number of neurons for the hidden layer is 16."
   ]
  },
  {
   "cell_type": "code",
   "execution_count": 106,
   "metadata": {},
   "outputs": [
    {
     "name": "stdout",
     "output_type": "stream",
     "text": [
      "Epoch 1/20, Loss: 0.6410\n",
      "Epoch 2/20, Loss: 0.6208\n",
      "Epoch 3/20, Loss: 0.6222\n",
      "Epoch 4/20, Loss: 0.6012\n",
      "Epoch 5/20, Loss: 0.5905\n",
      "Epoch 6/20, Loss: 0.5740\n",
      "Epoch 7/20, Loss: 0.5901\n",
      "Epoch 8/20, Loss: 0.6127\n",
      "Epoch 9/20, Loss: 0.5941\n",
      "Epoch 10/20, Loss: 0.5300\n",
      "Epoch 11/20, Loss: 0.5772\n",
      "Epoch 12/20, Loss: 0.5236\n",
      "Epoch 13/20, Loss: 0.5891\n",
      "Epoch 14/20, Loss: 0.5056\n",
      "Epoch 15/20, Loss: 0.5610\n",
      "Epoch 16/20, Loss: 0.4940\n",
      "Epoch 17/20, Loss: 0.5387\n",
      "Epoch 18/20, Loss: 0.4794\n",
      "Epoch 19/20, Loss: 0.5277\n",
      "Epoch 20/20, Loss: 0.5192\n",
      "\n",
      "\n",
      "Train Accuracy: 0.8375\n",
      "Test Accuracy: 0.725\n"
     ]
    }
   ],
   "source": [
    "model = FNN(1, 16)\n",
    "train(model, train_loader)\n",
    "eval(model)"
   ]
  },
  {
   "cell_type": "markdown",
   "metadata": {},
   "source": [
    "(b) Train a network with 2 hidden layers, and the number of neurons for each hidden layer is 16."
   ]
  },
  {
   "cell_type": "code",
   "execution_count": 107,
   "metadata": {},
   "outputs": [
    {
     "name": "stdout",
     "output_type": "stream",
     "text": [
      "Epoch 1/20, Loss: 0.7136\n",
      "Epoch 2/20, Loss: 0.6657\n",
      "Epoch 3/20, Loss: 0.6653\n",
      "Epoch 4/20, Loss: 0.6646\n",
      "Epoch 5/20, Loss: 0.6706\n",
      "Epoch 6/20, Loss: 0.6583\n",
      "Epoch 7/20, Loss: 0.6541\n",
      "Epoch 8/20, Loss: 0.6412\n",
      "Epoch 9/20, Loss: 0.6564\n",
      "Epoch 10/20, Loss: 0.6339\n",
      "Epoch 11/20, Loss: 0.6221\n",
      "Epoch 12/20, Loss: 0.6321\n",
      "Epoch 13/20, Loss: 0.6214\n",
      "Epoch 14/20, Loss: 0.5966\n",
      "Epoch 15/20, Loss: 0.6188\n",
      "Epoch 16/20, Loss: 0.5821\n",
      "Epoch 17/20, Loss: 0.5612\n",
      "Epoch 18/20, Loss: 0.5652\n",
      "Epoch 19/20, Loss: 0.5539\n",
      "Epoch 20/20, Loss: 0.5213\n",
      "\n",
      "\n",
      "Train Accuracy: 0.8625\n",
      "Test Accuracy: 0.75\n"
     ]
    }
   ],
   "source": [
    "model = FNN(2, 16)\n",
    "train(model, train_loader)\n",
    "eval(model)"
   ]
  },
  {
   "cell_type": "markdown",
   "metadata": {},
   "source": [
    "(c) Train a network with 3 hidden layers, and the number of neurons for each hidden layer is 16."
   ]
  },
  {
   "cell_type": "code",
   "execution_count": 108,
   "metadata": {},
   "outputs": [
    {
     "name": "stdout",
     "output_type": "stream",
     "text": [
      "Epoch 1/20, Loss: 0.6872\n",
      "Epoch 2/20, Loss: 0.6856\n",
      "Epoch 3/20, Loss: 0.6847\n",
      "Epoch 4/20, Loss: 0.6915\n",
      "Epoch 5/20, Loss: 0.6812\n",
      "Epoch 6/20, Loss: 0.6771\n",
      "Epoch 7/20, Loss: 0.6654\n",
      "Epoch 8/20, Loss: 0.6638\n",
      "Epoch 9/20, Loss: 0.6596\n",
      "Epoch 10/20, Loss: 0.6429\n",
      "Epoch 11/20, Loss: 0.6227\n",
      "Epoch 12/20, Loss: 0.6272\n",
      "Epoch 13/20, Loss: 0.5839\n",
      "Epoch 14/20, Loss: 0.5697\n",
      "Epoch 15/20, Loss: 0.5605\n",
      "Epoch 16/20, Loss: 0.5302\n",
      "Epoch 17/20, Loss: 0.5182\n",
      "Epoch 18/20, Loss: 0.4902\n",
      "Epoch 19/20, Loss: 0.4611\n",
      "Epoch 20/20, Loss: 0.4782\n",
      "\n",
      "\n",
      "Train Accuracy: 0.85\n",
      "Test Accuracy: 0.8\n"
     ]
    }
   ],
   "source": [
    "model = FNN(3, 16)\n",
    "train(model, train_loader)\n",
    "eval(model)"
   ]
  }
 ],
 "metadata": {
  "kernelspec": {
   "display_name": "ml",
   "language": "python",
   "name": "python3"
  },
  "language_info": {
   "codemirror_mode": {
    "name": "ipython",
    "version": 3
   },
   "file_extension": ".py",
   "mimetype": "text/x-python",
   "name": "python",
   "nbconvert_exporter": "python",
   "pygments_lexer": "ipython3",
   "version": "3.11.9"
  }
 },
 "nbformat": 4,
 "nbformat_minor": 2
}
